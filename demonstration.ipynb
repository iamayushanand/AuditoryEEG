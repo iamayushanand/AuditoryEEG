{
 "cells": [
  {
   "cell_type": "markdown",
   "metadata": {},
   "source": [
    "# Auditory EEG using Classical ML techiniques\n",
    "## Speech Understanding Course Minor Project\n",
    "\n",
    "This notebook demonstrates the usage of this repository."
   ]
  },
  {
   "cell_type": "markdown",
   "metadata": {},
   "source": [
    "### Dataset Preparation\n",
    "Specify the dataset and stimuli directory to initialise the dataset object wrapper."
   ]
  },
  {
   "cell_type": "code",
   "execution_count": 7,
   "metadata": {},
   "outputs": [],
   "source": [
    "from src.dataset import Dataset\n",
    "dataset = Dataset(audio_feat_type=\"mfcc\", eeg_feat_type=\"spectogram\", DATASET_DIR=\"../dataset/\", STIMULI_DIR=\"../dataset/stimuli/\")"
   ]
  },
  {
   "cell_type": "code",
   "execution_count": 8,
   "metadata": {},
   "outputs": [
    {
     "name": "stderr",
     "output_type": "stream",
     "text": [
      "3it [01:26, 28.69s/it]"
     ]
    },
    {
     "name": "stdout",
     "output_type": "stream",
     "text": [
      "audio size 400\n",
      "eeg size 400\n"
     ]
    },
    {
     "name": "stderr",
     "output_type": "stream",
     "text": [
      "\n"
     ]
    },
    {
     "data": {
      "text/plain": [
       "(array([[-4.79398285e+02,  8.13944778e+01,  4.44239044e+00, ...,\n",
       "         -1.25822616e+00, -2.07428646e+00, -2.89342260e+00],\n",
       "        [-4.73252777e+02,  8.60305252e+01,  2.44695830e+00, ...,\n",
       "         -1.41231024e+00, -1.58537018e+00, -2.94244599e+00],\n",
       "        [-4.12708160e+02,  1.03004692e+02, -6.16177797e+00, ...,\n",
       "         -1.35548520e+00, -1.32969987e+00, -3.17452812e+00],\n",
       "        ...,\n",
       "        [-3.87471313e+02,  1.01227577e+02, -1.43156233e+01, ...,\n",
       "          2.07264996e+00,  1.07038271e+00,  1.64165032e+00],\n",
       "        [-3.78611115e+02,  8.23941879e+01, -2.62436066e+01, ...,\n",
       "          2.08180404e+00, -4.88689775e-03,  1.93858778e+00],\n",
       "        [-3.60787506e+02,  9.18777084e+01, -3.57918663e+01, ...,\n",
       "          3.04518604e+00,  4.60837305e-01,  2.34166574e+00]]),\n",
       " array([[22.68034935, 11.74051189,  3.39487839, ...,  0.2221451 ,\n",
       "          0.20260459,  0.1694385 ],\n",
       "        [18.08952713,  9.37099743,  3.41547561, ...,  0.23763365,\n",
       "          0.20848219,  0.162403  ],\n",
       "        [14.84731197,  7.8846488 ,  3.6355238 , ...,  0.22643386,\n",
       "          0.20853646,  0.15634145],\n",
       "        ...,\n",
       "        [17.99465942, 12.28870678,  5.35908937, ...,  0.48205218,\n",
       "          0.44844174,  0.40164348],\n",
       "        [23.05383301, 15.30590534,  6.52265692, ...,  0.48347107,\n",
       "          0.43771455,  0.37962258],\n",
       "        [26.24122047, 18.5759182 ,  7.9578495 , ...,  0.48211733,\n",
       "          0.43851814,  0.37914911]]))"
      ]
     },
     "execution_count": 8,
     "metadata": {},
     "output_type": "execute_result"
    }
   ],
   "source": [
    "# use the method prepare_dataset to generate the dataset\n",
    "# note that the parameter N_experiments specifies how many full length experiments need to be included in the dataset.\n",
    "# Each full length experiment contributes 200 sets of feature vectors each set corresponding to a 3 second duration\n",
    "\n",
    "dataset.prepare_dataset(N=2)"
   ]
  },
  {
   "cell_type": "code",
   "execution_count": null,
   "metadata": {},
   "outputs": [],
   "source": []
  }
 ],
 "metadata": {
  "kernelspec": {
   "display_name": "base",
   "language": "python",
   "name": "python3"
  },
  "language_info": {
   "codemirror_mode": {
    "name": "ipython",
    "version": 3
   },
   "file_extension": ".py",
   "mimetype": "text/x-python",
   "name": "python",
   "nbconvert_exporter": "python",
   "pygments_lexer": "ipython3",
   "version": "3.11.5"
  }
 },
 "nbformat": 4,
 "nbformat_minor": 2
}
